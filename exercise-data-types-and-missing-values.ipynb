{
 "cells": [
  {
   "cell_type": "markdown",
   "id": "bc1b0ce9",
   "metadata": {
    "papermill": {
     "duration": 0.00546,
     "end_time": "2022-09-01T02:07:40.215641",
     "exception": false,
     "start_time": "2022-09-01T02:07:40.210181",
     "status": "completed"
    },
    "tags": []
   },
   "source": [
    "**This notebook is an exercise in the [Pandas](https://www.kaggle.com/learn/pandas) course.  You can reference the tutorial at [this link](https://www.kaggle.com/residentmario/data-types-and-missing-values).**\n",
    "\n",
    "---\n"
   ]
  },
  {
   "cell_type": "markdown",
   "id": "da1d7330",
   "metadata": {
    "papermill": {
     "duration": 0.00393,
     "end_time": "2022-09-01T02:07:40.224071",
     "exception": false,
     "start_time": "2022-09-01T02:07:40.220141",
     "status": "completed"
    },
    "tags": []
   },
   "source": [
    "# Introduction\n",
    "\n",
    "Run the following cell to load your data and some utility functions."
   ]
  },
  {
   "cell_type": "code",
   "execution_count": 1,
   "id": "5db282e5",
   "metadata": {
    "execution": {
     "iopub.execute_input": "2022-09-01T02:07:40.235511Z",
     "iopub.status.busy": "2022-09-01T02:07:40.234069Z",
     "iopub.status.idle": "2022-09-01T02:07:43.214391Z",
     "shell.execute_reply": "2022-09-01T02:07:43.212991Z"
    },
    "papermill": {
     "duration": 2.989437,
     "end_time": "2022-09-01T02:07:43.217716",
     "exception": false,
     "start_time": "2022-09-01T02:07:40.228279",
     "status": "completed"
    },
    "tags": []
   },
   "outputs": [
    {
     "name": "stdout",
     "output_type": "stream",
     "text": [
      "Setup complete.\n"
     ]
    }
   ],
   "source": [
    "import pandas as pd\n",
    "\n",
    "reviews = pd.read_csv(\"../input/wine-reviews/winemag-data-130k-v2.csv\", index_col=0)\n",
    "\n",
    "from learntools.core import binder; binder.bind(globals())\n",
    "from learntools.pandas.data_types_and_missing_data import *\n",
    "print(\"Setup complete.\")"
   ]
  },
  {
   "cell_type": "markdown",
   "id": "3652cb61",
   "metadata": {
    "papermill": {
     "duration": 0.004381,
     "end_time": "2022-09-01T02:07:43.226759",
     "exception": false,
     "start_time": "2022-09-01T02:07:43.222378",
     "status": "completed"
    },
    "tags": []
   },
   "source": [
    "# Exercises"
   ]
  },
  {
   "cell_type": "markdown",
   "id": "68929be5",
   "metadata": {
    "papermill": {
     "duration": 0.003835,
     "end_time": "2022-09-01T02:07:43.234860",
     "exception": false,
     "start_time": "2022-09-01T02:07:43.231025",
     "status": "completed"
    },
    "tags": []
   },
   "source": [
    "## 1. \n",
    "What is the data type of the `points` column in the dataset?"
   ]
  },
  {
   "cell_type": "code",
   "execution_count": 2,
   "id": "2dcefca6",
   "metadata": {
    "execution": {
     "iopub.execute_input": "2022-09-01T02:07:43.244950Z",
     "iopub.status.busy": "2022-09-01T02:07:43.244578Z",
     "iopub.status.idle": "2022-09-01T02:07:43.256730Z",
     "shell.execute_reply": "2022-09-01T02:07:43.255514Z"
    },
    "papermill": {
     "duration": 0.020226,
     "end_time": "2022-09-01T02:07:43.259211",
     "exception": false,
     "start_time": "2022-09-01T02:07:43.238985",
     "status": "completed"
    },
    "tags": []
   },
   "outputs": [
    {
     "data": {
      "application/javascript": [
       "parent.postMessage({\"jupyterEvent\": \"custom.exercise_interaction\", \"data\": {\"outcomeType\": 1, \"valueTowardsCompletion\": 0.25, \"interactionType\": 1, \"questionType\": 1, \"questionId\": \"1_PointsDtype\", \"learnToolsVersion\": \"0.3.4\", \"failureMessage\": \"\", \"exceptionClass\": \"\", \"trace\": \"\"}}, \"*\")"
      ],
      "text/plain": [
       "<IPython.core.display.Javascript object>"
      ]
     },
     "metadata": {},
     "output_type": "display_data"
    },
    {
     "data": {
      "text/markdown": [
       "<span style=\"color:#33cc33\">Correct</span>"
      ],
      "text/plain": [
       "Correct"
      ]
     },
     "metadata": {},
     "output_type": "display_data"
    }
   ],
   "source": [
    "# Your code here\n",
    "dtype = reviews.points.dtype\n",
    "\n",
    "# Check your answer\n",
    "q1.check()"
   ]
  },
  {
   "cell_type": "code",
   "execution_count": 3,
   "id": "7a83261f",
   "metadata": {
    "execution": {
     "iopub.execute_input": "2022-09-01T02:07:43.270224Z",
     "iopub.status.busy": "2022-09-01T02:07:43.269561Z",
     "iopub.status.idle": "2022-09-01T02:07:43.273193Z",
     "shell.execute_reply": "2022-09-01T02:07:43.272466Z"
    },
    "papermill": {
     "duration": 0.01156,
     "end_time": "2022-09-01T02:07:43.275269",
     "exception": false,
     "start_time": "2022-09-01T02:07:43.263709",
     "status": "completed"
    },
    "tags": []
   },
   "outputs": [],
   "source": [
    "#q1.hint()\n",
    "#q1.solution()"
   ]
  },
  {
   "cell_type": "markdown",
   "id": "e1b1e08b",
   "metadata": {
    "papermill": {
     "duration": 0.004321,
     "end_time": "2022-09-01T02:07:43.284218",
     "exception": false,
     "start_time": "2022-09-01T02:07:43.279897",
     "status": "completed"
    },
    "tags": []
   },
   "source": [
    "## 2. \n",
    "Create a Series from entries in the `points` column, but convert the entries to strings. Hint: strings are `str` in native Python."
   ]
  },
  {
   "cell_type": "code",
   "execution_count": 4,
   "id": "022bdd4c",
   "metadata": {
    "execution": {
     "iopub.execute_input": "2022-09-01T02:07:43.295312Z",
     "iopub.status.busy": "2022-09-01T02:07:43.294396Z",
     "iopub.status.idle": "2022-09-01T02:07:43.378617Z",
     "shell.execute_reply": "2022-09-01T02:07:43.377678Z"
    },
    "papermill": {
     "duration": 0.092097,
     "end_time": "2022-09-01T02:07:43.380800",
     "exception": false,
     "start_time": "2022-09-01T02:07:43.288703",
     "status": "completed"
    },
    "tags": []
   },
   "outputs": [
    {
     "data": {
      "application/javascript": [
       "parent.postMessage({\"jupyterEvent\": \"custom.exercise_interaction\", \"data\": {\"outcomeType\": 1, \"valueTowardsCompletion\": 0.25, \"interactionType\": 1, \"questionType\": 1, \"questionId\": \"2_StrPoints\", \"learnToolsVersion\": \"0.3.4\", \"failureMessage\": \"\", \"exceptionClass\": \"\", \"trace\": \"\"}}, \"*\")"
      ],
      "text/plain": [
       "<IPython.core.display.Javascript object>"
      ]
     },
     "metadata": {},
     "output_type": "display_data"
    },
    {
     "data": {
      "text/markdown": [
       "<span style=\"color:#33cc33\">Correct</span>"
      ],
      "text/plain": [
       "Correct"
      ]
     },
     "metadata": {},
     "output_type": "display_data"
    }
   ],
   "source": [
    "point_strings = reviews.points.astype(str)\n",
    "\n",
    "# Check your answer\n",
    "q2.check()"
   ]
  },
  {
   "cell_type": "code",
   "execution_count": 5,
   "id": "739cbd48",
   "metadata": {
    "execution": {
     "iopub.execute_input": "2022-09-01T02:07:43.392622Z",
     "iopub.status.busy": "2022-09-01T02:07:43.392174Z",
     "iopub.status.idle": "2022-09-01T02:07:43.396982Z",
     "shell.execute_reply": "2022-09-01T02:07:43.395663Z"
    },
    "papermill": {
     "duration": 0.013693,
     "end_time": "2022-09-01T02:07:43.399392",
     "exception": false,
     "start_time": "2022-09-01T02:07:43.385699",
     "status": "completed"
    },
    "tags": []
   },
   "outputs": [],
   "source": [
    "#q2.hint()\n",
    "#q2.solution()"
   ]
  },
  {
   "cell_type": "markdown",
   "id": "fd52dbe4",
   "metadata": {
    "papermill": {
     "duration": 0.004621,
     "end_time": "2022-09-01T02:07:43.409096",
     "exception": false,
     "start_time": "2022-09-01T02:07:43.404475",
     "status": "completed"
    },
    "tags": []
   },
   "source": [
    "## 3.\n",
    "Sometimes the price column is null. How many reviews in the dataset are missing a price?"
   ]
  },
  {
   "cell_type": "code",
   "execution_count": 6,
   "id": "381b2b31",
   "metadata": {
    "execution": {
     "iopub.execute_input": "2022-09-01T02:07:43.422063Z",
     "iopub.status.busy": "2022-09-01T02:07:43.421643Z",
     "iopub.status.idle": "2022-09-01T02:07:43.432986Z",
     "shell.execute_reply": "2022-09-01T02:07:43.431722Z"
    },
    "papermill": {
     "duration": 0.019832,
     "end_time": "2022-09-01T02:07:43.435081",
     "exception": false,
     "start_time": "2022-09-01T02:07:43.415249",
     "status": "completed"
    },
    "tags": []
   },
   "outputs": [
    {
     "data": {
      "application/javascript": [
       "parent.postMessage({\"jupyterEvent\": \"custom.exercise_interaction\", \"data\": {\"outcomeType\": 1, \"valueTowardsCompletion\": 0.25, \"interactionType\": 1, \"questionType\": 1, \"questionId\": \"3_CountMissingPrices\", \"learnToolsVersion\": \"0.3.4\", \"failureMessage\": \"\", \"exceptionClass\": \"\", \"trace\": \"\"}}, \"*\")"
      ],
      "text/plain": [
       "<IPython.core.display.Javascript object>"
      ]
     },
     "metadata": {},
     "output_type": "display_data"
    },
    {
     "data": {
      "text/markdown": [
       "<span style=\"color:#33cc33\">Correct</span>"
      ],
      "text/plain": [
       "Correct"
      ]
     },
     "metadata": {},
     "output_type": "display_data"
    },
    {
     "data": {
      "text/plain": [
       "8996"
      ]
     },
     "execution_count": 6,
     "metadata": {},
     "output_type": "execute_result"
    }
   ],
   "source": [
    "n_missing_prices = reviews.price.isnull().sum()\n",
    "\n",
    "# Check your answer\n",
    "q3.check()\n",
    "n_missing_prices"
   ]
  },
  {
   "cell_type": "code",
   "execution_count": 7,
   "id": "1d0d4956",
   "metadata": {
    "execution": {
     "iopub.execute_input": "2022-09-01T02:07:43.447465Z",
     "iopub.status.busy": "2022-09-01T02:07:43.446832Z",
     "iopub.status.idle": "2022-09-01T02:07:43.451473Z",
     "shell.execute_reply": "2022-09-01T02:07:43.450336Z"
    },
    "papermill": {
     "duration": 0.013169,
     "end_time": "2022-09-01T02:07:43.453665",
     "exception": false,
     "start_time": "2022-09-01T02:07:43.440496",
     "status": "completed"
    },
    "tags": []
   },
   "outputs": [],
   "source": [
    "#q3.hint()\n",
    "#q3.solution()"
   ]
  },
  {
   "cell_type": "markdown",
   "id": "581e8096",
   "metadata": {
    "papermill": {
     "duration": 0.004934,
     "end_time": "2022-09-01T02:07:43.463931",
     "exception": false,
     "start_time": "2022-09-01T02:07:43.458997",
     "status": "completed"
    },
    "tags": []
   },
   "source": [
    "## 4.\n",
    "What are the most common wine-producing regions? Create a Series counting the number of times each value occurs in the `region_1` field. This field is often missing data, so replace missing values with `Unknown`. Sort in descending order.  Your output should look something like this:\n",
    "\n",
    "```\n",
    "Unknown                    21247\n",
    "Napa Valley                 4480\n",
    "                           ...  \n",
    "Bardolino Superiore            1\n",
    "Primitivo del Tarantino        1\n",
    "Name: region_1, Length: 1230, dtype: int64\n",
    "```"
   ]
  },
  {
   "cell_type": "code",
   "execution_count": 8,
   "id": "07d1f162",
   "metadata": {
    "execution": {
     "iopub.execute_input": "2022-09-01T02:07:43.476247Z",
     "iopub.status.busy": "2022-09-01T02:07:43.475837Z",
     "iopub.status.idle": "2022-09-01T02:07:43.520620Z",
     "shell.execute_reply": "2022-09-01T02:07:43.519207Z"
    },
    "papermill": {
     "duration": 0.054664,
     "end_time": "2022-09-01T02:07:43.523688",
     "exception": false,
     "start_time": "2022-09-01T02:07:43.469024",
     "status": "completed"
    },
    "tags": []
   },
   "outputs": [
    {
     "data": {
      "application/javascript": [
       "parent.postMessage({\"jupyterEvent\": \"custom.exercise_interaction\", \"data\": {\"outcomeType\": 1, \"valueTowardsCompletion\": 0.25, \"interactionType\": 1, \"questionType\": 2, \"questionId\": \"4_ReviewsPerRegion\", \"learnToolsVersion\": \"0.3.4\", \"failureMessage\": \"\", \"exceptionClass\": \"\", \"trace\": \"\"}}, \"*\")"
      ],
      "text/plain": [
       "<IPython.core.display.Javascript object>"
      ]
     },
     "metadata": {},
     "output_type": "display_data"
    },
    {
     "data": {
      "text/markdown": [
       "<span style=\"color:#33cc33\">Correct</span>"
      ],
      "text/plain": [
       "Correct"
      ]
     },
     "metadata": {},
     "output_type": "display_data"
    }
   ],
   "source": [
    "temp = reviews.region_1.fillna('unknown')\n",
    "reviews_per_region = temp.value_counts()\n",
    "\n",
    "# Check your answer\n",
    "q4.check()"
   ]
  },
  {
   "cell_type": "code",
   "execution_count": 9,
   "id": "3b378648",
   "metadata": {
    "execution": {
     "iopub.execute_input": "2022-09-01T02:07:43.536812Z",
     "iopub.status.busy": "2022-09-01T02:07:43.535985Z",
     "iopub.status.idle": "2022-09-01T02:07:43.541101Z",
     "shell.execute_reply": "2022-09-01T02:07:43.539867Z"
    },
    "papermill": {
     "duration": 0.014264,
     "end_time": "2022-09-01T02:07:43.543493",
     "exception": false,
     "start_time": "2022-09-01T02:07:43.529229",
     "status": "completed"
    },
    "tags": []
   },
   "outputs": [],
   "source": [
    "#q4.hint()\n",
    "#q4.solution()"
   ]
  },
  {
   "cell_type": "markdown",
   "id": "6033bbca",
   "metadata": {
    "papermill": {
     "duration": 0.00528,
     "end_time": "2022-09-01T02:07:43.554419",
     "exception": false,
     "start_time": "2022-09-01T02:07:43.549139",
     "status": "completed"
    },
    "tags": []
   },
   "source": [
    "# Keep going\n",
    "\n",
    "Move on to **[renaming and combining](https://www.kaggle.com/residentmario/renaming-and-combining)**."
   ]
  },
  {
   "cell_type": "markdown",
   "id": "50e710da",
   "metadata": {
    "papermill": {
     "duration": 0.00526,
     "end_time": "2022-09-01T02:07:43.565186",
     "exception": false,
     "start_time": "2022-09-01T02:07:43.559926",
     "status": "completed"
    },
    "tags": []
   },
   "source": [
    "---\n",
    "\n",
    "\n",
    "\n",
    "\n",
    "*Have questions or comments? Visit the [course discussion forum](https://www.kaggle.com/learn/pandas/discussion) to chat with other learners.*"
   ]
  }
 ],
 "metadata": {
  "kernelspec": {
   "display_name": "Python 3",
   "language": "python",
   "name": "python3"
  },
  "language_info": {
   "codemirror_mode": {
    "name": "ipython",
    "version": 3
   },
   "file_extension": ".py",
   "mimetype": "text/x-python",
   "name": "python",
   "nbconvert_exporter": "python",
   "pygments_lexer": "ipython3",
   "version": "3.7.12"
  },
  "papermill": {
   "default_parameters": {},
   "duration": 13.602394,
   "end_time": "2022-09-01T02:07:44.295680",
   "environment_variables": {},
   "exception": null,
   "input_path": "__notebook__.ipynb",
   "output_path": "__notebook__.ipynb",
   "parameters": {},
   "start_time": "2022-09-01T02:07:30.693286",
   "version": "2.3.4"
  }
 },
 "nbformat": 4,
 "nbformat_minor": 5
}
