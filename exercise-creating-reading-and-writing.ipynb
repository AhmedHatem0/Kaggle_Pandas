{
 "cells": [
  {
   "cell_type": "markdown",
   "id": "a3bf40b5",
   "metadata": {
    "papermill": {
     "duration": 0.006383,
     "end_time": "2022-09-01T02:02:21.902064",
     "exception": false,
     "start_time": "2022-09-01T02:02:21.895681",
     "status": "completed"
    },
    "tags": []
   },
   "source": [
    "**This notebook is an exercise in the [Pandas](https://www.kaggle.com/learn/pandas) course.  You can reference the tutorial at [this link](https://www.kaggle.com/residentmario/creating-reading-and-writing).**\n",
    "\n",
    "---\n"
   ]
  },
  {
   "cell_type": "markdown",
   "id": "8987040e",
   "metadata": {
    "papermill": {
     "duration": 0.004743,
     "end_time": "2022-09-01T02:02:21.912016",
     "exception": false,
     "start_time": "2022-09-01T02:02:21.907273",
     "status": "completed"
    },
    "tags": []
   },
   "source": [
    "# Introduction\n",
    "\n",
    "The first step in most data analytics projects is reading the data file. In this exercise, you'll create Series and DataFrame objects, both by hand and by reading data files.\n",
    "\n",
    "Run the code cell below to load libraries you will need (including code to check your answers)."
   ]
  },
  {
   "cell_type": "code",
   "execution_count": 1,
   "id": "94ff38be",
   "metadata": {
    "execution": {
     "iopub.execute_input": "2022-09-01T02:02:21.926229Z",
     "iopub.status.busy": "2022-09-01T02:02:21.925320Z",
     "iopub.status.idle": "2022-09-01T02:02:23.621323Z",
     "shell.execute_reply": "2022-09-01T02:02:23.620220Z"
    },
    "papermill": {
     "duration": 1.706529,
     "end_time": "2022-09-01T02:02:23.624123",
     "exception": false,
     "start_time": "2022-09-01T02:02:21.917594",
     "status": "completed"
    },
    "tags": []
   },
   "outputs": [
    {
     "name": "stdout",
     "output_type": "stream",
     "text": [
      "Setup complete.\n"
     ]
    }
   ],
   "source": [
    "import pandas as pd\n",
    "pd.set_option('max_rows', 5)\n",
    "from learntools.core import binder; binder.bind(globals())\n",
    "from learntools.pandas.creating_reading_and_writing import *\n",
    "print(\"Setup complete.\")"
   ]
  },
  {
   "cell_type": "markdown",
   "id": "b4fe36b1",
   "metadata": {
    "papermill": {
     "duration": 0.005214,
     "end_time": "2022-09-01T02:02:23.635005",
     "exception": false,
     "start_time": "2022-09-01T02:02:23.629791",
     "status": "completed"
    },
    "tags": []
   },
   "source": [
    "# Exercises"
   ]
  },
  {
   "cell_type": "markdown",
   "id": "e84933b4",
   "metadata": {
    "papermill": {
     "duration": 0.00487,
     "end_time": "2022-09-01T02:02:23.645142",
     "exception": false,
     "start_time": "2022-09-01T02:02:23.640272",
     "status": "completed"
    },
    "tags": []
   },
   "source": [
    "## 1.\n",
    "\n",
    "In the cell below, create a DataFrame `fruits` that looks like this:\n",
    "\n",
    "![](https://i.imgur.com/Ax3pp2A.png)"
   ]
  },
  {
   "cell_type": "code",
   "execution_count": 2,
   "id": "fae8d993",
   "metadata": {
    "execution": {
     "iopub.execute_input": "2022-09-01T02:02:23.658046Z",
     "iopub.status.busy": "2022-09-01T02:02:23.657009Z",
     "iopub.status.idle": "2022-09-01T02:02:23.677124Z",
     "shell.execute_reply": "2022-09-01T02:02:23.675973Z"
    },
    "papermill": {
     "duration": 0.029007,
     "end_time": "2022-09-01T02:02:23.679480",
     "exception": false,
     "start_time": "2022-09-01T02:02:23.650473",
     "status": "completed"
    },
    "tags": []
   },
   "outputs": [
    {
     "data": {
      "application/javascript": [
       "parent.postMessage({\"jupyterEvent\": \"custom.exercise_interaction\", \"data\": {\"outcomeType\": 1, \"valueTowardsCompletion\": 0.16666666666666666, \"interactionType\": 1, \"questionType\": 1, \"questionId\": \"1_FruitDfCreation\", \"learnToolsVersion\": \"0.3.4\", \"failureMessage\": \"\", \"exceptionClass\": \"\", \"trace\": \"\"}}, \"*\")"
      ],
      "text/plain": [
       "<IPython.core.display.Javascript object>"
      ]
     },
     "metadata": {},
     "output_type": "display_data"
    },
    {
     "data": {
      "text/markdown": [
       "<span style=\"color:#33cc33\">Correct</span>"
      ],
      "text/plain": [
       "Correct"
      ]
     },
     "metadata": {},
     "output_type": "display_data"
    },
    {
     "data": {
      "text/html": [
       "<div>\n",
       "<style scoped>\n",
       "    .dataframe tbody tr th:only-of-type {\n",
       "        vertical-align: middle;\n",
       "    }\n",
       "\n",
       "    .dataframe tbody tr th {\n",
       "        vertical-align: top;\n",
       "    }\n",
       "\n",
       "    .dataframe thead th {\n",
       "        text-align: right;\n",
       "    }\n",
       "</style>\n",
       "<table border=\"1\" class=\"dataframe\">\n",
       "  <thead>\n",
       "    <tr style=\"text-align: right;\">\n",
       "      <th></th>\n",
       "      <th>Apples</th>\n",
       "      <th>Bananas</th>\n",
       "    </tr>\n",
       "  </thead>\n",
       "  <tbody>\n",
       "    <tr>\n",
       "      <th>0</th>\n",
       "      <td>30</td>\n",
       "      <td>21</td>\n",
       "    </tr>\n",
       "  </tbody>\n",
       "</table>\n",
       "</div>"
      ],
      "text/plain": [
       "   Apples  Bananas\n",
       "0      30       21"
      ]
     },
     "execution_count": 2,
     "metadata": {},
     "output_type": "execute_result"
    }
   ],
   "source": [
    "# Your code goes here. Create a dataframe matching the above diagram and assign it to the variable fruits.\n",
    "fruits = pd.DataFrame({'Apples':[30],'Bananas':[21]})\n",
    "\n",
    "# Check your answer\n",
    "q1.check()\n",
    "fruits"
   ]
  },
  {
   "cell_type": "code",
   "execution_count": 3,
   "id": "36ac227b",
   "metadata": {
    "execution": {
     "iopub.execute_input": "2022-09-01T02:02:23.692226Z",
     "iopub.status.busy": "2022-09-01T02:02:23.691852Z",
     "iopub.status.idle": "2022-09-01T02:02:23.699607Z",
     "shell.execute_reply": "2022-09-01T02:02:23.698593Z"
    },
    "papermill": {
     "duration": 0.016577,
     "end_time": "2022-09-01T02:02:23.701821",
     "exception": false,
     "start_time": "2022-09-01T02:02:23.685244",
     "status": "completed"
    },
    "tags": []
   },
   "outputs": [
    {
     "data": {
      "application/javascript": [
       "parent.postMessage({\"jupyterEvent\": \"custom.exercise_interaction\", \"data\": {\"interactionType\": 3, \"questionType\": 1, \"questionId\": \"1_FruitDfCreation\", \"learnToolsVersion\": \"0.3.4\", \"valueTowardsCompletion\": 0.0, \"failureMessage\": \"\", \"exceptionClass\": \"\", \"trace\": \"\", \"outcomeType\": 4}}, \"*\")"
      ],
      "text/plain": [
       "<IPython.core.display.Javascript object>"
      ]
     },
     "metadata": {},
     "output_type": "display_data"
    },
    {
     "data": {
      "text/markdown": [
       "<span style=\"color:#33cc99\">Solution:</span> \n",
       "```python\n",
       "fruits = pd.DataFrame([[30, 21]], columns=['Apples', 'Bananas'])\n",
       "```"
      ],
      "text/plain": [
       "Solution: \n",
       "```python\n",
       "fruits = pd.DataFrame([[30, 21]], columns=['Apples', 'Bananas'])\n",
       "```"
      ]
     },
     "metadata": {},
     "output_type": "display_data"
    }
   ],
   "source": [
    "#q1.hint()\n",
    "q1.solution()"
   ]
  },
  {
   "cell_type": "markdown",
   "id": "2aa1d729",
   "metadata": {
    "papermill": {
     "duration": 0.005503,
     "end_time": "2022-09-01T02:02:23.713392",
     "exception": false,
     "start_time": "2022-09-01T02:02:23.707889",
     "status": "completed"
    },
    "tags": []
   },
   "source": [
    "## 2.\n",
    "\n",
    "Create a dataframe `fruit_sales` that matches the diagram below:\n",
    "\n",
    "![](https://i.imgur.com/CHPn7ZF.png)"
   ]
  },
  {
   "cell_type": "code",
   "execution_count": 4,
   "id": "b0e54c58",
   "metadata": {
    "execution": {
     "iopub.execute_input": "2022-09-01T02:02:23.727820Z",
     "iopub.status.busy": "2022-09-01T02:02:23.727401Z",
     "iopub.status.idle": "2022-09-01T02:02:23.743436Z",
     "shell.execute_reply": "2022-09-01T02:02:23.742332Z"
    },
    "papermill": {
     "duration": 0.025442,
     "end_time": "2022-09-01T02:02:23.745737",
     "exception": false,
     "start_time": "2022-09-01T02:02:23.720295",
     "status": "completed"
    },
    "tags": []
   },
   "outputs": [
    {
     "data": {
      "application/javascript": [
       "parent.postMessage({\"jupyterEvent\": \"custom.exercise_interaction\", \"data\": {\"outcomeType\": 1, \"valueTowardsCompletion\": 0.16666666666666666, \"interactionType\": 1, \"questionType\": 1, \"questionId\": \"2_FruitSalesDfCreation\", \"learnToolsVersion\": \"0.3.4\", \"failureMessage\": \"\", \"exceptionClass\": \"\", \"trace\": \"\"}}, \"*\")"
      ],
      "text/plain": [
       "<IPython.core.display.Javascript object>"
      ]
     },
     "metadata": {},
     "output_type": "display_data"
    },
    {
     "data": {
      "text/markdown": [
       "<span style=\"color:#33cc33\">Correct</span>"
      ],
      "text/plain": [
       "Correct"
      ]
     },
     "metadata": {},
     "output_type": "display_data"
    },
    {
     "data": {
      "text/html": [
       "<div>\n",
       "<style scoped>\n",
       "    .dataframe tbody tr th:only-of-type {\n",
       "        vertical-align: middle;\n",
       "    }\n",
       "\n",
       "    .dataframe tbody tr th {\n",
       "        vertical-align: top;\n",
       "    }\n",
       "\n",
       "    .dataframe thead th {\n",
       "        text-align: right;\n",
       "    }\n",
       "</style>\n",
       "<table border=\"1\" class=\"dataframe\">\n",
       "  <thead>\n",
       "    <tr style=\"text-align: right;\">\n",
       "      <th></th>\n",
       "      <th>Apples</th>\n",
       "      <th>Bananas</th>\n",
       "    </tr>\n",
       "  </thead>\n",
       "  <tbody>\n",
       "    <tr>\n",
       "      <th>2017 Sales</th>\n",
       "      <td>35</td>\n",
       "      <td>21</td>\n",
       "    </tr>\n",
       "    <tr>\n",
       "      <th>2018 Sales</th>\n",
       "      <td>41</td>\n",
       "      <td>34</td>\n",
       "    </tr>\n",
       "  </tbody>\n",
       "</table>\n",
       "</div>"
      ],
      "text/plain": [
       "            Apples  Bananas\n",
       "2017 Sales      35       21\n",
       "2018 Sales      41       34"
      ]
     },
     "execution_count": 4,
     "metadata": {},
     "output_type": "execute_result"
    }
   ],
   "source": [
    "# Your code goes here. Create a dataframe matching the above diagram and assign it to the variable fruit_sales.\n",
    "fruit_sales = pd.DataFrame({'Apples':[35,41] , 'Bananas':[21 , 34]}, index = ['2017 Sales', '2018 Sales'])\n",
    "\n",
    "# Check your answer\n",
    "q2.check()\n",
    "fruit_sales"
   ]
  },
  {
   "cell_type": "code",
   "execution_count": 5,
   "id": "bb0feb4d",
   "metadata": {
    "execution": {
     "iopub.execute_input": "2022-09-01T02:02:23.760008Z",
     "iopub.status.busy": "2022-09-01T02:02:23.759607Z",
     "iopub.status.idle": "2022-09-01T02:02:23.763872Z",
     "shell.execute_reply": "2022-09-01T02:02:23.762831Z"
    },
    "papermill": {
     "duration": 0.01391,
     "end_time": "2022-09-01T02:02:23.765981",
     "exception": false,
     "start_time": "2022-09-01T02:02:23.752071",
     "status": "completed"
    },
    "tags": []
   },
   "outputs": [],
   "source": [
    "#q2.hint()\n",
    "#q2.solution()"
   ]
  },
  {
   "cell_type": "markdown",
   "id": "205df8e5",
   "metadata": {
    "papermill": {
     "duration": 0.006055,
     "end_time": "2022-09-01T02:02:23.778731",
     "exception": false,
     "start_time": "2022-09-01T02:02:23.772676",
     "status": "completed"
    },
    "tags": []
   },
   "source": [
    "## 3.\n",
    "\n",
    "Create a variable `ingredients` with a Series that looks like:\n",
    "\n",
    "```\n",
    "Flour     4 cups\n",
    "Milk       1 cup\n",
    "Eggs     2 large\n",
    "Spam       1 can\n",
    "Name: Dinner, dtype: object\n",
    "```"
   ]
  },
  {
   "cell_type": "code",
   "execution_count": 6,
   "id": "e1ede1d5",
   "metadata": {
    "execution": {
     "iopub.execute_input": "2022-09-01T02:02:23.793133Z",
     "iopub.status.busy": "2022-09-01T02:02:23.792755Z",
     "iopub.status.idle": "2022-09-01T02:02:23.804934Z",
     "shell.execute_reply": "2022-09-01T02:02:23.803936Z"
    },
    "papermill": {
     "duration": 0.02206,
     "end_time": "2022-09-01T02:02:23.806901",
     "exception": false,
     "start_time": "2022-09-01T02:02:23.784841",
     "status": "completed"
    },
    "tags": []
   },
   "outputs": [
    {
     "data": {
      "application/javascript": [
       "parent.postMessage({\"jupyterEvent\": \"custom.exercise_interaction\", \"data\": {\"outcomeType\": 1, \"valueTowardsCompletion\": 0.16666666666666666, \"interactionType\": 1, \"questionType\": 2, \"questionId\": \"3_RecipeSeriesCreation\", \"learnToolsVersion\": \"0.3.4\", \"failureMessage\": \"\", \"exceptionClass\": \"\", \"trace\": \"\"}}, \"*\")"
      ],
      "text/plain": [
       "<IPython.core.display.Javascript object>"
      ]
     },
     "metadata": {},
     "output_type": "display_data"
    },
    {
     "data": {
      "text/markdown": [
       "<span style=\"color:#33cc33\">Correct</span>"
      ],
      "text/plain": [
       "Correct"
      ]
     },
     "metadata": {},
     "output_type": "display_data"
    },
    {
     "data": {
      "text/plain": [
       "Flour     4 cups\n",
       "Milk       1 cup\n",
       "Eggs     2 large\n",
       "Spam       1 can\n",
       "Name: Dinner, dtype: object"
      ]
     },
     "execution_count": 6,
     "metadata": {},
     "output_type": "execute_result"
    }
   ],
   "source": [
    "ingredients = pd.Series(['4 cups', '1 cup', '2 large', '1 can'], index = ['Flour' , 'Milk' ,'Eggs','Spam'] , name = 'Dinner')\n",
    "# Check your answer\n",
    "q3.check()\n",
    "ingredients"
   ]
  },
  {
   "cell_type": "code",
   "execution_count": 7,
   "id": "a3ee9a5b",
   "metadata": {
    "execution": {
     "iopub.execute_input": "2022-09-01T02:02:23.821302Z",
     "iopub.status.busy": "2022-09-01T02:02:23.820921Z",
     "iopub.status.idle": "2022-09-01T02:02:23.828788Z",
     "shell.execute_reply": "2022-09-01T02:02:23.827860Z"
    },
    "papermill": {
     "duration": 0.017682,
     "end_time": "2022-09-01T02:02:23.831064",
     "exception": false,
     "start_time": "2022-09-01T02:02:23.813382",
     "status": "completed"
    },
    "tags": []
   },
   "outputs": [
    {
     "data": {
      "application/javascript": [
       "parent.postMessage({\"jupyterEvent\": \"custom.exercise_interaction\", \"data\": {\"interactionType\": 3, \"questionType\": 2, \"questionId\": \"3_RecipeSeriesCreation\", \"learnToolsVersion\": \"0.3.4\", \"valueTowardsCompletion\": 0.0, \"failureMessage\": \"\", \"exceptionClass\": \"\", \"trace\": \"\", \"outcomeType\": 4}}, \"*\")"
      ],
      "text/plain": [
       "<IPython.core.display.Javascript object>"
      ]
     },
     "metadata": {},
     "output_type": "display_data"
    },
    {
     "data": {
      "text/markdown": [
       "<span style=\"color:#33cc99\">Solution:</span> \n",
       "```python\n",
       "quantities = ['4 cups', '1 cup', '2 large', '1 can']\n",
       "items = ['Flour', 'Milk', 'Eggs', 'Spam']\n",
       "recipe = pd.Series(quantities, index=items, name='Dinner')\n",
       "```"
      ],
      "text/plain": [
       "Solution: \n",
       "```python\n",
       "quantities = ['4 cups', '1 cup', '2 large', '1 can']\n",
       "items = ['Flour', 'Milk', 'Eggs', 'Spam']\n",
       "recipe = pd.Series(quantities, index=items, name='Dinner')\n",
       "```"
      ]
     },
     "metadata": {},
     "output_type": "display_data"
    }
   ],
   "source": [
    "#q3.hint()\n",
    "q3.solution()"
   ]
  },
  {
   "cell_type": "markdown",
   "id": "26cf0ef6",
   "metadata": {
    "papermill": {
     "duration": 0.006593,
     "end_time": "2022-09-01T02:02:23.844632",
     "exception": false,
     "start_time": "2022-09-01T02:02:23.838039",
     "status": "completed"
    },
    "tags": []
   },
   "source": [
    "## 4.\n",
    "\n",
    "Read the following csv dataset of wine reviews into a DataFrame called `reviews`:\n",
    "\n",
    "![](https://i.imgur.com/74RCZtU.png)\n",
    "\n",
    "The filepath to the csv file is `../input/wine-reviews/winemag-data_first150k.csv`. The first few lines look like:\n",
    "\n",
    "```\n",
    ",country,description,designation,points,price,province,region_1,region_2,variety,winery\n",
    "0,US,\"This tremendous 100% varietal wine[...]\",Martha's Vineyard,96,235.0,California,Napa Valley,Napa,Cabernet Sauvignon,Heitz\n",
    "1,Spain,\"Ripe aromas of fig, blackberry and[...]\",Carodorum Selección Especial Reserva,96,110.0,Northern Spain,Toro,,Tinta de Toro,Bodega Carmen Rodríguez\n",
    "```"
   ]
  },
  {
   "cell_type": "raw",
   "id": "d209196f",
   "metadata": {
    "papermill": {
     "duration": 0.006523,
     "end_time": "2022-09-01T02:02:23.858720",
     "exception": false,
     "start_time": "2022-09-01T02:02:23.852197",
     "status": "completed"
    },
    "tags": []
   },
   "source": [
    "reviews = pd.read_csv('../input/wine-reviews/winemag-data_first150k.csv')\n",
    "# Check your answer\n",
    "q4.check()\n",
    "reviews"
   ]
  },
  {
   "cell_type": "code",
   "execution_count": 8,
   "id": "4ef53791",
   "metadata": {
    "execution": {
     "iopub.execute_input": "2022-09-01T02:02:23.874183Z",
     "iopub.status.busy": "2022-09-01T02:02:23.873773Z",
     "iopub.status.idle": "2022-09-01T02:02:24.727559Z",
     "shell.execute_reply": "2022-09-01T02:02:24.725735Z"
    },
    "papermill": {
     "duration": 0.864558,
     "end_time": "2022-09-01T02:02:24.730053",
     "exception": false,
     "start_time": "2022-09-01T02:02:23.865495",
     "status": "completed"
    },
    "tags": []
   },
   "outputs": [
    {
     "data": {
      "application/javascript": [
       "parent.postMessage({\"jupyterEvent\": \"custom.exercise_interaction\", \"data\": {\"outcomeType\": 1, \"valueTowardsCompletion\": 0.16666666666666666, \"interactionType\": 1, \"questionType\": 1, \"questionId\": \"4_ReadWineCsv\", \"learnToolsVersion\": \"0.3.4\", \"failureMessage\": \"\", \"exceptionClass\": \"\", \"trace\": \"\"}}, \"*\")"
      ],
      "text/plain": [
       "<IPython.core.display.Javascript object>"
      ]
     },
     "metadata": {},
     "output_type": "display_data"
    },
    {
     "data": {
      "text/markdown": [
       "<span style=\"color:#33cc33\">Correct</span>"
      ],
      "text/plain": [
       "Correct"
      ]
     },
     "metadata": {},
     "output_type": "display_data"
    }
   ],
   "source": [
    "reviews = pd.read_csv('../input/wine-reviews/winemag-data_first150k.csv',index_col=0)\n",
    "q4.check()\n"
   ]
  },
  {
   "cell_type": "code",
   "execution_count": 9,
   "id": "276fda16",
   "metadata": {
    "execution": {
     "iopub.execute_input": "2022-09-01T02:02:24.750032Z",
     "iopub.status.busy": "2022-09-01T02:02:24.749098Z",
     "iopub.status.idle": "2022-09-01T02:02:24.760212Z",
     "shell.execute_reply": "2022-09-01T02:02:24.758971Z"
    },
    "papermill": {
     "duration": 0.024904,
     "end_time": "2022-09-01T02:02:24.762730",
     "exception": false,
     "start_time": "2022-09-01T02:02:24.737826",
     "status": "completed"
    },
    "tags": []
   },
   "outputs": [
    {
     "data": {
      "application/javascript": [
       "parent.postMessage({\"jupyterEvent\": \"custom.exercise_interaction\", \"data\": {\"interactionType\": 3, \"questionType\": 1, \"questionId\": \"4_ReadWineCsv\", \"learnToolsVersion\": \"0.3.4\", \"valueTowardsCompletion\": 0.0, \"failureMessage\": \"\", \"exceptionClass\": \"\", \"trace\": \"\", \"outcomeType\": 4}}, \"*\")"
      ],
      "text/plain": [
       "<IPython.core.display.Javascript object>"
      ]
     },
     "metadata": {},
     "output_type": "display_data"
    },
    {
     "data": {
      "text/markdown": [
       "<span style=\"color:#33cc99\">Solution:</span> \n",
       "```python\n",
       "reviews = pd.read_csv('../input/wine-reviews/winemag-data_first150k.csv', index_col=0)\n",
       "```"
      ],
      "text/plain": [
       "Solution: \n",
       "```python\n",
       "reviews = pd.read_csv('../input/wine-reviews/winemag-data_first150k.csv', index_col=0)\n",
       "```"
      ]
     },
     "metadata": {},
     "output_type": "display_data"
    }
   ],
   "source": [
    "#q4.hint()\n",
    "q4.solution()"
   ]
  },
  {
   "cell_type": "markdown",
   "id": "79777fac",
   "metadata": {
    "papermill": {
     "duration": 0.009209,
     "end_time": "2022-09-01T02:02:24.779691",
     "exception": false,
     "start_time": "2022-09-01T02:02:24.770482",
     "status": "completed"
    },
    "tags": []
   },
   "source": [
    "## 5.\n",
    "\n",
    "Run the cell below to create and display a DataFrame called `animals`:"
   ]
  },
  {
   "cell_type": "code",
   "execution_count": 10,
   "id": "14a6aaaa",
   "metadata": {
    "execution": {
     "iopub.execute_input": "2022-09-01T02:02:24.801642Z",
     "iopub.status.busy": "2022-09-01T02:02:24.800439Z",
     "iopub.status.idle": "2022-09-01T02:02:24.813295Z",
     "shell.execute_reply": "2022-09-01T02:02:24.811931Z"
    },
    "papermill": {
     "duration": 0.02576,
     "end_time": "2022-09-01T02:02:24.815832",
     "exception": false,
     "start_time": "2022-09-01T02:02:24.790072",
     "status": "completed"
    },
    "tags": []
   },
   "outputs": [
    {
     "data": {
      "text/html": [
       "<div>\n",
       "<style scoped>\n",
       "    .dataframe tbody tr th:only-of-type {\n",
       "        vertical-align: middle;\n",
       "    }\n",
       "\n",
       "    .dataframe tbody tr th {\n",
       "        vertical-align: top;\n",
       "    }\n",
       "\n",
       "    .dataframe thead th {\n",
       "        text-align: right;\n",
       "    }\n",
       "</style>\n",
       "<table border=\"1\" class=\"dataframe\">\n",
       "  <thead>\n",
       "    <tr style=\"text-align: right;\">\n",
       "      <th></th>\n",
       "      <th>Cows</th>\n",
       "      <th>Goats</th>\n",
       "    </tr>\n",
       "  </thead>\n",
       "  <tbody>\n",
       "    <tr>\n",
       "      <th>Year 1</th>\n",
       "      <td>12</td>\n",
       "      <td>22</td>\n",
       "    </tr>\n",
       "    <tr>\n",
       "      <th>Year 2</th>\n",
       "      <td>20</td>\n",
       "      <td>19</td>\n",
       "    </tr>\n",
       "  </tbody>\n",
       "</table>\n",
       "</div>"
      ],
      "text/plain": [
       "        Cows  Goats\n",
       "Year 1    12     22\n",
       "Year 2    20     19"
      ]
     },
     "execution_count": 10,
     "metadata": {},
     "output_type": "execute_result"
    }
   ],
   "source": [
    "animals = pd.DataFrame({'Cows': [12, 20], 'Goats': [22, 19]}, index=['Year 1', 'Year 2'])\n",
    "animals"
   ]
  },
  {
   "cell_type": "markdown",
   "id": "e2a5cc61",
   "metadata": {
    "papermill": {
     "duration": 0.010505,
     "end_time": "2022-09-01T02:02:24.834377",
     "exception": false,
     "start_time": "2022-09-01T02:02:24.823872",
     "status": "completed"
    },
    "tags": []
   },
   "source": [
    "In the cell below, write code to save this DataFrame to disk as a csv file with the name `cows_and_goats.csv`."
   ]
  },
  {
   "cell_type": "code",
   "execution_count": 11,
   "id": "170d4cf1",
   "metadata": {
    "execution": {
     "iopub.execute_input": "2022-09-01T02:02:24.852657Z",
     "iopub.status.busy": "2022-09-01T02:02:24.852083Z",
     "iopub.status.idle": "2022-09-01T02:02:24.867589Z",
     "shell.execute_reply": "2022-09-01T02:02:24.866187Z"
    },
    "papermill": {
     "duration": 0.026971,
     "end_time": "2022-09-01T02:02:24.869824",
     "exception": false,
     "start_time": "2022-09-01T02:02:24.842853",
     "status": "completed"
    },
    "tags": []
   },
   "outputs": [
    {
     "data": {
      "application/javascript": [
       "parent.postMessage({\"jupyterEvent\": \"custom.exercise_interaction\", \"data\": {\"outcomeType\": 1, \"valueTowardsCompletion\": 0.16666666666666666, \"interactionType\": 1, \"questionType\": 2, \"questionId\": \"5_SaveAnimalsCsv\", \"learnToolsVersion\": \"0.3.4\", \"failureMessage\": \"\", \"exceptionClass\": \"\", \"trace\": \"\"}}, \"*\")"
      ],
      "text/plain": [
       "<IPython.core.display.Javascript object>"
      ]
     },
     "metadata": {},
     "output_type": "display_data"
    },
    {
     "data": {
      "text/markdown": [
       "<span style=\"color:#33cc33\">Correct</span>"
      ],
      "text/plain": [
       "Correct"
      ]
     },
     "metadata": {},
     "output_type": "display_data"
    }
   ],
   "source": [
    "# Your code goes here\n",
    "animals.to_csv('cows_and_goats.csv')\n",
    "# Check your answer\n",
    "q5.check()"
   ]
  },
  {
   "cell_type": "code",
   "execution_count": 12,
   "id": "94c03c11",
   "metadata": {
    "execution": {
     "iopub.execute_input": "2022-09-01T02:02:24.888661Z",
     "iopub.status.busy": "2022-09-01T02:02:24.887872Z",
     "iopub.status.idle": "2022-09-01T02:02:24.892628Z",
     "shell.execute_reply": "2022-09-01T02:02:24.891621Z"
    },
    "papermill": {
     "duration": 0.017127,
     "end_time": "2022-09-01T02:02:24.895136",
     "exception": false,
     "start_time": "2022-09-01T02:02:24.878009",
     "status": "completed"
    },
    "tags": []
   },
   "outputs": [],
   "source": [
    "#q5.hint()\n",
    "#q5.solution()"
   ]
  },
  {
   "cell_type": "markdown",
   "id": "1ba5f649",
   "metadata": {
    "papermill": {
     "duration": 0.007724,
     "end_time": "2022-09-01T02:02:24.910932",
     "exception": false,
     "start_time": "2022-09-01T02:02:24.903208",
     "status": "completed"
    },
    "tags": []
   },
   "source": [
    "# Keep going\n",
    "\n",
    "Move on to learn about **[indexing, selecting and assigning](https://www.kaggle.com/residentmario/indexing-selecting-assigning)**."
   ]
  },
  {
   "cell_type": "markdown",
   "id": "4cf7000d",
   "metadata": {
    "papermill": {
     "duration": 0.007619,
     "end_time": "2022-09-01T02:02:24.926568",
     "exception": false,
     "start_time": "2022-09-01T02:02:24.918949",
     "status": "completed"
    },
    "tags": []
   },
   "source": [
    "---\n",
    "\n",
    "\n",
    "\n",
    "\n",
    "*Have questions or comments? Visit the [Learn Discussion forum](https://www.kaggle.com/learn-forum/161299) to chat with other Learners.*"
   ]
  }
 ],
 "metadata": {
  "kernelspec": {
   "display_name": "Python 3",
   "language": "python",
   "name": "python3"
  },
  "language_info": {
   "codemirror_mode": {
    "name": "ipython",
    "version": 3
   },
   "file_extension": ".py",
   "mimetype": "text/x-python",
   "name": "python",
   "nbconvert_exporter": "python",
   "pygments_lexer": "ipython3",
   "version": "3.7.12"
  },
  "papermill": {
   "default_parameters": {},
   "duration": 12.592881,
   "end_time": "2022-09-01T02:02:25.556380",
   "environment_variables": {},
   "exception": null,
   "input_path": "__notebook__.ipynb",
   "output_path": "__notebook__.ipynb",
   "parameters": {},
   "start_time": "2022-09-01T02:02:12.963499",
   "version": "2.3.4"
  }
 },
 "nbformat": 4,
 "nbformat_minor": 5
}
